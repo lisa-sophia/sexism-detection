{
  "nbformat": 4,
  "nbformat_minor": 0,
  "metadata": {
    "colab": {
      "name": "sexism_detection.ipynb",
      "provenance": [],
      "mount_file_id": "https://github.com/lisa-sophia/sexism-detection/blob/main/sexism_detection.ipynb",
      "authorship_tag": "ABX9TyMqtMdWxZ4NzYp//pUcZlZi",
      "include_colab_link": true
    },
    "kernelspec": {
      "name": "python3",
      "display_name": "Python 3"
    },
    "language_info": {
      "name": "python"
    }
  },
  "cells": [
    {
      "cell_type": "markdown",
      "metadata": {
        "id": "view-in-github",
        "colab_type": "text"
      },
      "source": [
        "<a href=\"https://colab.research.google.com/github/lisa-sophia/sexism-detection/blob/main/sexism_detection.ipynb\" target=\"_parent\"><img src=\"https://colab.research.google.com/assets/colab-badge.svg\" alt=\"Open In Colab\"/></a>"
      ]
    },
    {
      "cell_type": "code",
      "metadata": {
        "id": "zLQNji7uLf5N",
        "colab": {
          "base_uri": "https://localhost:8080/"
        },
        "outputId": "50a83690-a2d8-4041-bc37-559ce300852f"
      },
      "source": [
        "from google.colab import drive\n",
        "drive.mount('/content/drive')"
      ],
      "execution_count": 40,
      "outputs": [
        {
          "output_type": "stream",
          "name": "stdout",
          "text": [
            "Drive already mounted at /content/drive; to attempt to forcibly remount, call drive.mount(\"/content/drive\", force_remount=True).\n"
          ]
        }
      ]
    },
    {
      "cell_type": "markdown",
      "metadata": {
        "id": "E4GPx8XbMHEB"
      },
      "source": [
        "From https://data.gesis.org/sharing/#!Detail/10.7802/2251 :\n",
        "\n",
        "The file `sexism_data.csv` contains the data and binary sexism labels in csv format. Each row is an example. Each example has the following fields as columns in the file:\n",
        "- `id`: (int >= 0) the serial id of the example\n",
        "- `dataset`: (str, one of `benevolent, hostile, callme, scales, other`) the dataset of origin of the example (see the data statement and the paper for details on new and pre-existing datasets)\n",
        "- `text`: (str) the text of the example (some preprocessing has been applied to remove PII and avoid data collection confounders, see the data statement and the paper)\n",
        "- `toxicity`: (float) toxicity score of the text obtained from the Perspective API\n",
        "- `sexist`: (boolean) binary label that tells if the text is sexist or not (see the paper for details on how to derive the binary labels from the fine-grained annotations in `sexist_annotations.csv`)\n",
        "- `of_id`: (int) if the example is a modification this field is the `id` of the original example, `-1` otherwise (see the paper for details on how crowdworkers generated adversarial, non-sexist examples from original, sexist ones)"
      ]
    },
    {
      "cell_type": "code",
      "metadata": {
        "id": "zfsWBCQz7xSk",
        "colab": {
          "base_uri": "https://localhost:8080/",
          "height": 206
        },
        "outputId": "45824fbd-8390-4ca7-b301-cca353b3ce68"
      },
      "source": [
        "import pandas as pd\n",
        "\n",
        "df = pd.read_csv (r'/content/drive/MyDrive/Colab Notebooks/TDDE16 Project/sexism_data.csv')\n",
        "df.head()"
      ],
      "execution_count": 41,
      "outputs": [
        {
          "output_type": "execute_result",
          "data": {
            "text/html": [
              "<div>\n",
              "<style scoped>\n",
              "    .dataframe tbody tr th:only-of-type {\n",
              "        vertical-align: middle;\n",
              "    }\n",
              "\n",
              "    .dataframe tbody tr th {\n",
              "        vertical-align: top;\n",
              "    }\n",
              "\n",
              "    .dataframe thead th {\n",
              "        text-align: right;\n",
              "    }\n",
              "</style>\n",
              "<table border=\"1\" class=\"dataframe\">\n",
              "  <thead>\n",
              "    <tr style=\"text-align: right;\">\n",
              "      <th></th>\n",
              "      <th>id</th>\n",
              "      <th>dataset</th>\n",
              "      <th>text</th>\n",
              "      <th>toxicity</th>\n",
              "      <th>sexist</th>\n",
              "      <th>of_id</th>\n",
              "    </tr>\n",
              "  </thead>\n",
              "  <tbody>\n",
              "    <tr>\n",
              "      <th>0</th>\n",
              "      <td>0</td>\n",
              "      <td>other</td>\n",
              "      <td>MENTION3481 i didn't even know random was an o...</td>\n",
              "      <td>0.118180</td>\n",
              "      <td>False</td>\n",
              "      <td>-1</td>\n",
              "    </tr>\n",
              "    <tr>\n",
              "      <th>1</th>\n",
              "      <td>1</td>\n",
              "      <td>other</td>\n",
              "      <td>Bottom two should've gone!  #mkr</td>\n",
              "      <td>0.251850</td>\n",
              "      <td>False</td>\n",
              "      <td>-1</td>\n",
              "    </tr>\n",
              "    <tr>\n",
              "      <th>2</th>\n",
              "      <td>2</td>\n",
              "      <td>callme</td>\n",
              "      <td>MENTION3111 MENTION3424 ladyboner deserves so ...</td>\n",
              "      <td>0.113331</td>\n",
              "      <td>False</td>\n",
              "      <td>-1</td>\n",
              "    </tr>\n",
              "    <tr>\n",
              "      <th>3</th>\n",
              "      <td>3</td>\n",
              "      <td>other</td>\n",
              "      <td>She shall now be known as Sourpuss #MKR #KatAn...</td>\n",
              "      <td>0.531153</td>\n",
              "      <td>False</td>\n",
              "      <td>-1</td>\n",
              "    </tr>\n",
              "    <tr>\n",
              "      <th>4</th>\n",
              "      <td>4</td>\n",
              "      <td>other</td>\n",
              "      <td>Tarah W threw a bunch of women under the bus s...</td>\n",
              "      <td>0.118718</td>\n",
              "      <td>False</td>\n",
              "      <td>-1</td>\n",
              "    </tr>\n",
              "  </tbody>\n",
              "</table>\n",
              "</div>"
            ],
            "text/plain": [
              "   id dataset  ... sexist  of_id\n",
              "0   0   other  ...  False     -1\n",
              "1   1   other  ...  False     -1\n",
              "2   2  callme  ...  False     -1\n",
              "3   3   other  ...  False     -1\n",
              "4   4   other  ...  False     -1\n",
              "\n",
              "[5 rows x 6 columns]"
            ]
          },
          "metadata": {},
          "execution_count": 41
        }
      ]
    },
    {
      "cell_type": "markdown",
      "metadata": {
        "id": "pYYbeSMaMues"
      },
      "source": [
        "We onl"
      ]
    },
    {
      "cell_type": "code",
      "metadata": {
        "colab": {
          "base_uri": "https://localhost:8080/"
        },
        "id": "GTC9dJhtPI9z",
        "outputId": "941fc1fa-f498-485f-e865-bfcb883efca1"
      },
      "source": [
        "sexist_texts = df.text.loc[df['sexist'] == True]\n",
        "for t in sexist_texts[:20]:   # print only the first 20 examples\n",
        "  print(t)"
      ],
      "execution_count": 42,
      "outputs": [
        {
          "output_type": "stream",
          "name": "stdout",
          "text": [
            "All my sons have grown up with computer games but I'm not interested. I see them as a male thing. MENTION203\n",
            "Women have more intuition than men.\n",
            "Women do not belong in politics\n",
            "On the average, men are more arrogant than women\n",
            "A woman will never be truly fulfilled in life if she doesn’t have a committed long-term relationship with a man\n",
            "mmmm Good luck MENTION3536 😄 let us know how you go? Still think u & MENTION395 should enter #MKR 😄 more cooking, less bitching mmmm\n",
            "I hate having guys for teachers\n",
            "A female can't tell me nothing bout sports. Sorry I grew up in a sports crazed house.\n",
            "women can't drive. The only exception: danica patrick.\n",
            "RT MENTION2547 I'm not sexist but the Men's skill sets and abilities are just leagues above the women's. Much more entertaining. #Olympics\n",
            "RT MENTION2783 MENTION3161 I'm not sexist but i just don't believe in women being president\n",
            "if a women don't know how to cook and take care of house she ain't a real women.\n",
            "Women are more envious than men.\n",
            "Soccer is 1 of two sports (tennis) where the women's version is not painful to watch due to inferior athletes. im right\n",
            "Ever consider they're not FOR you and no one cares? MENTION3450 I'm not sexist, but nothing bores me more than feminist novels.\n",
            "MENTION3569 MENTION487: I'm not sexist but fuck if you're a woman and you can't Cook get your shit together.\n",
            "“She’s so beautiful she’s so precious,” he said and I thought, “welcome to being a woman.\" #everydaysexism… https://t.co/4mfF4WbZq2\n",
            "RT MENTION1004 Go ahead and call me sexist but I do not trust girls in a gun store.\n",
            "MENTION1059 I have only ever seen female OBGYNs I don’t feel comfortable with the men. Period.\n",
            "Men want power more than women do\n"
          ]
        }
      ]
    },
    {
      "cell_type": "markdown",
      "metadata": {
        "id": "jy_sO3w6SiJ5"
      },
      "source": [
        "Plotting the data distribution shows that there are more non-sexist than sexist texts in the dataset."
      ]
    },
    {
      "cell_type": "code",
      "metadata": {
        "colab": {
          "base_uri": "https://localhost:8080/",
          "height": 427
        },
        "id": "NbBKtwk0NJLf",
        "outputId": "b0352ea0-f5ec-4bac-ce95-678d2b13cf00"
      },
      "source": [
        "import matplotlib.pyplot as plt\n",
        "import seaborn as sns\n",
        "\n",
        "sns.set(font_scale=1.2)\n",
        "df['sexist'].value_counts().plot(kind='bar', rot=0, figsize=(6,5))\n",
        "plt.xlabel(\"Text is sexist\")\n",
        "plt.ylabel(\"Count of texts\")\n",
        "plt.title(\"Counts of texts that are sexist / not sexist\", y=1.05)\n",
        "plt.show()\n",
        "\n",
        "print(df['sexist'].value_counts())\n"
      ],
      "execution_count": 43,
      "outputs": [
        {
          "output_type": "display_data",
          "data": {
            "image/png": "[encoded data removed]",
            "text/plain": [
              "<Figure size 432x360 with 1 Axes>"
            ]
          },
          "metadata": {}
        },
        {
          "output_type": "stream",
          "name": "stdout",
          "text": [
            "False    11822\n",
            "True      1809\n",
            "Name: sexist, dtype: int64\n"
          ]
        }
      ]
    }
  ]
}